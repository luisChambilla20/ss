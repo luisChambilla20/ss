{
  "nbformat": 4,
  "nbformat_minor": 0,
  "metadata": {
    "colab": {
      "provenance": [],
      "include_colab_link": true
    },
    "kernelspec": {
      "display_name": "Python 3",
      "name": "python3"
    }
  },
  "cells": [
    {
      "cell_type": "markdown",
      "metadata": {
        "id": "view-in-github",
        "colab_type": "text"
      },
      "source": [
        "<a href=\"https://colab.research.google.com/github/luisChambilla20/ss/blob/main/Regresi%C3%B3n_parte_2.ipynb\" target=\"_parent\"><img src=\"https://colab.research.google.com/assets/colab-badge.svg\" alt=\"Open In Colab\"/></a>"
      ]
    },
    {
      "cell_type": "markdown",
      "metadata": {
        "id": "ev0-7weGKs2n"
      },
      "source": [
        "#Te damos la bienvenida la segunda parte de este ejercicio de regresión.\n",
        "\n",
        "---\n",
        "\n",
        "\n",
        "\n",
        "## Este ejercicio continuará donde terminó el anterior, para esto es necesario\n",
        "\n",
        "El primer paso es conseguir un dataset o conjunto de datos, para esto podemos recurrir al sitio Kaggle.com, el cual entre otras cosas ofrece datasets abiertos.\n",
        "\n",
        "En este caso usaremos el dataset kc_house_data (https://www.kaggle.com/shivachandel/kc-house-data) ,el cual contiene datos de distintas casas en Washington, EEUU.\n",
        "\n",
        "Puedes descargar el conjunto de datos desde este enlace:\n",
        "https://drive.google.com/file/d/1sIwmhhn50utRZY556ENMAa13sIxWSzHj/view?usp=sharing\n",
        "\n",
        "Una vez lo tengas descargado es importante que sepas donde lo dejaste guardado.\n",
        "\n",
        "Esta segunda parte del ejercicio contiene todo lo de la primera, una vez llegues a una celda que dice \"Comienza la segunda parte\" es donde está todo lo nuevo."
      ]
    },
    {
      "cell_type": "code",
      "source": [
        "from google.colab import drive\n",
        "drive.mount('/content/drive')"
      ],
      "metadata": {
        "colab": {
          "base_uri": "https://localhost:8080/"
        },
        "id": "aDWVWIcFGoHl",
        "outputId": "755f66dc-c0be-4c46-cafa-34932ceb03ee"
      },
      "execution_count": 1,
      "outputs": [
        {
          "output_type": "stream",
          "name": "stdout",
          "text": [
            "Mounted at /content/drive\n"
          ]
        }
      ]
    },
    {
      "cell_type": "markdown",
      "metadata": {
        "id": "rHeRoOpcsoI5"
      },
      "source": [
        "#¿Como ejecutar el código?\n",
        "\n",
        "Toda celda de código en Google Colab tiene un botón de ejecutar arriba a la izquierda, cada vez que lo clickees se ejecutará todo el cógido de la celda."
      ]
    },
    {
      "cell_type": "code",
      "metadata": {
        "id": "xuR4cRwJ05JX"
      },
      "source": [
        "file_path = 'car.csv'\n",
        "\n",
        "df = pd.read_csv(file_path)"
      ],
      "execution_count": 5,
      "outputs": []
    },
    {
      "cell_type": "markdown",
      "metadata": {
        "id": "RAUiBCy3BH6Z"
      },
      "source": [
        "Antes de hacer cualquier otra cosa es importante examinar y entender el dataset, por eso se utilizaran algunas funciones de ejemplo. Como describe, head, shape y dtypes\n",
        "\n"
      ]
    },
    {
      "cell_type": "code",
      "metadata": {
        "colab": {
          "base_uri": "https://localhost:8080/",
          "height": 300
        },
        "id": "06xl81Q51lty",
        "outputId": "66a43ee4-9332-497c-f0f4-2e11a63f47f6"
      },
      "source": [
        "df.describe() # la funcion describe nos muestra un buen resumen del dataset"
      ],
      "execution_count": 6,
      "outputs": [
        {
          "output_type": "execute_result",
          "data": {
            "text/plain": [
              "                 ID         Price    Prod. year     Cylinders       Airbags\n",
              "count  1.923700e+04  1.923700e+04  19237.000000  19237.000000  19237.000000\n",
              "mean   4.557654e+07  1.855593e+04   2010.912824      4.582991      6.582627\n",
              "std    9.365914e+05  1.905813e+05      5.668673      1.199933      4.320168\n",
              "min    2.074688e+07  1.000000e+00   1939.000000      1.000000      0.000000\n",
              "25%    4.569837e+07  5.331000e+03   2009.000000      4.000000      4.000000\n",
              "50%    4.577231e+07  1.317200e+04   2012.000000      4.000000      6.000000\n",
              "75%    4.580204e+07  2.207500e+04   2015.000000      4.000000     12.000000\n",
              "max    4.581665e+07  2.630750e+07   2020.000000     16.000000     16.000000"
            ],
            "text/html": [
              "\n",
              "  <div id=\"df-5ecaad4f-2cd8-4d4d-a05b-39c61180f267\" class=\"colab-df-container\">\n",
              "    <div>\n",
              "<style scoped>\n",
              "    .dataframe tbody tr th:only-of-type {\n",
              "        vertical-align: middle;\n",
              "    }\n",
              "\n",
              "    .dataframe tbody tr th {\n",
              "        vertical-align: top;\n",
              "    }\n",
              "\n",
              "    .dataframe thead th {\n",
              "        text-align: right;\n",
              "    }\n",
              "</style>\n",
              "<table border=\"1\" class=\"dataframe\">\n",
              "  <thead>\n",
              "    <tr style=\"text-align: right;\">\n",
              "      <th></th>\n",
              "      <th>ID</th>\n",
              "      <th>Price</th>\n",
              "      <th>Prod. year</th>\n",
              "      <th>Cylinders</th>\n",
              "      <th>Airbags</th>\n",
              "    </tr>\n",
              "  </thead>\n",
              "  <tbody>\n",
              "    <tr>\n",
              "      <th>count</th>\n",
              "      <td>1.923700e+04</td>\n",
              "      <td>1.923700e+04</td>\n",
              "      <td>19237.000000</td>\n",
              "      <td>19237.000000</td>\n",
              "      <td>19237.000000</td>\n",
              "    </tr>\n",
              "    <tr>\n",
              "      <th>mean</th>\n",
              "      <td>4.557654e+07</td>\n",
              "      <td>1.855593e+04</td>\n",
              "      <td>2010.912824</td>\n",
              "      <td>4.582991</td>\n",
              "      <td>6.582627</td>\n",
              "    </tr>\n",
              "    <tr>\n",
              "      <th>std</th>\n",
              "      <td>9.365914e+05</td>\n",
              "      <td>1.905813e+05</td>\n",
              "      <td>5.668673</td>\n",
              "      <td>1.199933</td>\n",
              "      <td>4.320168</td>\n",
              "    </tr>\n",
              "    <tr>\n",
              "      <th>min</th>\n",
              "      <td>2.074688e+07</td>\n",
              "      <td>1.000000e+00</td>\n",
              "      <td>1939.000000</td>\n",
              "      <td>1.000000</td>\n",
              "      <td>0.000000</td>\n",
              "    </tr>\n",
              "    <tr>\n",
              "      <th>25%</th>\n",
              "      <td>4.569837e+07</td>\n",
              "      <td>5.331000e+03</td>\n",
              "      <td>2009.000000</td>\n",
              "      <td>4.000000</td>\n",
              "      <td>4.000000</td>\n",
              "    </tr>\n",
              "    <tr>\n",
              "      <th>50%</th>\n",
              "      <td>4.577231e+07</td>\n",
              "      <td>1.317200e+04</td>\n",
              "      <td>2012.000000</td>\n",
              "      <td>4.000000</td>\n",
              "      <td>6.000000</td>\n",
              "    </tr>\n",
              "    <tr>\n",
              "      <th>75%</th>\n",
              "      <td>4.580204e+07</td>\n",
              "      <td>2.207500e+04</td>\n",
              "      <td>2015.000000</td>\n",
              "      <td>4.000000</td>\n",
              "      <td>12.000000</td>\n",
              "    </tr>\n",
              "    <tr>\n",
              "      <th>max</th>\n",
              "      <td>4.581665e+07</td>\n",
              "      <td>2.630750e+07</td>\n",
              "      <td>2020.000000</td>\n",
              "      <td>16.000000</td>\n",
              "      <td>16.000000</td>\n",
              "    </tr>\n",
              "  </tbody>\n",
              "</table>\n",
              "</div>\n",
              "    <div class=\"colab-df-buttons\">\n",
              "\n",
              "  <div class=\"colab-df-container\">\n",
              "    <button class=\"colab-df-convert\" onclick=\"convertToInteractive('df-5ecaad4f-2cd8-4d4d-a05b-39c61180f267')\"\n",
              "            title=\"Convert this dataframe to an interactive table.\"\n",
              "            style=\"display:none;\">\n",
              "\n",
              "  <svg xmlns=\"http://www.w3.org/2000/svg\" height=\"24px\" viewBox=\"0 -960 960 960\">\n",
              "    <path d=\"M120-120v-720h720v720H120Zm60-500h600v-160H180v160Zm220 220h160v-160H400v160Zm0 220h160v-160H400v160ZM180-400h160v-160H180v160Zm440 0h160v-160H620v160ZM180-180h160v-160H180v160Zm440 0h160v-160H620v160Z\"/>\n",
              "  </svg>\n",
              "    </button>\n",
              "\n",
              "  <style>\n",
              "    .colab-df-container {\n",
              "      display:flex;\n",
              "      gap: 12px;\n",
              "    }\n",
              "\n",
              "    .colab-df-convert {\n",
              "      background-color: #E8F0FE;\n",
              "      border: none;\n",
              "      border-radius: 50%;\n",
              "      cursor: pointer;\n",
              "      display: none;\n",
              "      fill: #1967D2;\n",
              "      height: 32px;\n",
              "      padding: 0 0 0 0;\n",
              "      width: 32px;\n",
              "    }\n",
              "\n",
              "    .colab-df-convert:hover {\n",
              "      background-color: #E2EBFA;\n",
              "      box-shadow: 0px 1px 2px rgba(60, 64, 67, 0.3), 0px 1px 3px 1px rgba(60, 64, 67, 0.15);\n",
              "      fill: #174EA6;\n",
              "    }\n",
              "\n",
              "    .colab-df-buttons div {\n",
              "      margin-bottom: 4px;\n",
              "    }\n",
              "\n",
              "    [theme=dark] .colab-df-convert {\n",
              "      background-color: #3B4455;\n",
              "      fill: #D2E3FC;\n",
              "    }\n",
              "\n",
              "    [theme=dark] .colab-df-convert:hover {\n",
              "      background-color: #434B5C;\n",
              "      box-shadow: 0px 1px 3px 1px rgba(0, 0, 0, 0.15);\n",
              "      filter: drop-shadow(0px 1px 2px rgba(0, 0, 0, 0.3));\n",
              "      fill: #FFFFFF;\n",
              "    }\n",
              "  </style>\n",
              "\n",
              "    <script>\n",
              "      const buttonEl =\n",
              "        document.querySelector('#df-5ecaad4f-2cd8-4d4d-a05b-39c61180f267 button.colab-df-convert');\n",
              "      buttonEl.style.display =\n",
              "        google.colab.kernel.accessAllowed ? 'block' : 'none';\n",
              "\n",
              "      async function convertToInteractive(key) {\n",
              "        const element = document.querySelector('#df-5ecaad4f-2cd8-4d4d-a05b-39c61180f267');\n",
              "        const dataTable =\n",
              "          await google.colab.kernel.invokeFunction('convertToInteractive',\n",
              "                                                    [key], {});\n",
              "        if (!dataTable) return;\n",
              "\n",
              "        const docLinkHtml = 'Like what you see? Visit the ' +\n",
              "          '<a target=\"_blank\" href=https://colab.research.google.com/notebooks/data_table.ipynb>data table notebook</a>'\n",
              "          + ' to learn more about interactive tables.';\n",
              "        element.innerHTML = '';\n",
              "        dataTable['output_type'] = 'display_data';\n",
              "        await google.colab.output.renderOutput(dataTable, element);\n",
              "        const docLink = document.createElement('div');\n",
              "        docLink.innerHTML = docLinkHtml;\n",
              "        element.appendChild(docLink);\n",
              "      }\n",
              "    </script>\n",
              "  </div>\n",
              "\n",
              "\n",
              "<div id=\"df-4d8afccc-3e34-4f9a-a10e-40ccf3cbea2d\">\n",
              "  <button class=\"colab-df-quickchart\" onclick=\"quickchart('df-4d8afccc-3e34-4f9a-a10e-40ccf3cbea2d')\"\n",
              "            title=\"Suggest charts\"\n",
              "            style=\"display:none;\">\n",
              "\n",
              "<svg xmlns=\"http://www.w3.org/2000/svg\" height=\"24px\"viewBox=\"0 0 24 24\"\n",
              "     width=\"24px\">\n",
              "    <g>\n",
              "        <path d=\"M19 3H5c-1.1 0-2 .9-2 2v14c0 1.1.9 2 2 2h14c1.1 0 2-.9 2-2V5c0-1.1-.9-2-2-2zM9 17H7v-7h2v7zm4 0h-2V7h2v10zm4 0h-2v-4h2v4z\"/>\n",
              "    </g>\n",
              "</svg>\n",
              "  </button>\n",
              "\n",
              "<style>\n",
              "  .colab-df-quickchart {\n",
              "      --bg-color: #E8F0FE;\n",
              "      --fill-color: #1967D2;\n",
              "      --hover-bg-color: #E2EBFA;\n",
              "      --hover-fill-color: #174EA6;\n",
              "      --disabled-fill-color: #AAA;\n",
              "      --disabled-bg-color: #DDD;\n",
              "  }\n",
              "\n",
              "  [theme=dark] .colab-df-quickchart {\n",
              "      --bg-color: #3B4455;\n",
              "      --fill-color: #D2E3FC;\n",
              "      --hover-bg-color: #434B5C;\n",
              "      --hover-fill-color: #FFFFFF;\n",
              "      --disabled-bg-color: #3B4455;\n",
              "      --disabled-fill-color: #666;\n",
              "  }\n",
              "\n",
              "  .colab-df-quickchart {\n",
              "    background-color: var(--bg-color);\n",
              "    border: none;\n",
              "    border-radius: 50%;\n",
              "    cursor: pointer;\n",
              "    display: none;\n",
              "    fill: var(--fill-color);\n",
              "    height: 32px;\n",
              "    padding: 0;\n",
              "    width: 32px;\n",
              "  }\n",
              "\n",
              "  .colab-df-quickchart:hover {\n",
              "    background-color: var(--hover-bg-color);\n",
              "    box-shadow: 0 1px 2px rgba(60, 64, 67, 0.3), 0 1px 3px 1px rgba(60, 64, 67, 0.15);\n",
              "    fill: var(--button-hover-fill-color);\n",
              "  }\n",
              "\n",
              "  .colab-df-quickchart-complete:disabled,\n",
              "  .colab-df-quickchart-complete:disabled:hover {\n",
              "    background-color: var(--disabled-bg-color);\n",
              "    fill: var(--disabled-fill-color);\n",
              "    box-shadow: none;\n",
              "  }\n",
              "\n",
              "  .colab-df-spinner {\n",
              "    border: 2px solid var(--fill-color);\n",
              "    border-color: transparent;\n",
              "    border-bottom-color: var(--fill-color);\n",
              "    animation:\n",
              "      spin 1s steps(1) infinite;\n",
              "  }\n",
              "\n",
              "  @keyframes spin {\n",
              "    0% {\n",
              "      border-color: transparent;\n",
              "      border-bottom-color: var(--fill-color);\n",
              "      border-left-color: var(--fill-color);\n",
              "    }\n",
              "    20% {\n",
              "      border-color: transparent;\n",
              "      border-left-color: var(--fill-color);\n",
              "      border-top-color: var(--fill-color);\n",
              "    }\n",
              "    30% {\n",
              "      border-color: transparent;\n",
              "      border-left-color: var(--fill-color);\n",
              "      border-top-color: var(--fill-color);\n",
              "      border-right-color: var(--fill-color);\n",
              "    }\n",
              "    40% {\n",
              "      border-color: transparent;\n",
              "      border-right-color: var(--fill-color);\n",
              "      border-top-color: var(--fill-color);\n",
              "    }\n",
              "    60% {\n",
              "      border-color: transparent;\n",
              "      border-right-color: var(--fill-color);\n",
              "    }\n",
              "    80% {\n",
              "      border-color: transparent;\n",
              "      border-right-color: var(--fill-color);\n",
              "      border-bottom-color: var(--fill-color);\n",
              "    }\n",
              "    90% {\n",
              "      border-color: transparent;\n",
              "      border-bottom-color: var(--fill-color);\n",
              "    }\n",
              "  }\n",
              "</style>\n",
              "\n",
              "  <script>\n",
              "    async function quickchart(key) {\n",
              "      const quickchartButtonEl =\n",
              "        document.querySelector('#' + key + ' button');\n",
              "      quickchartButtonEl.disabled = true;  // To prevent multiple clicks.\n",
              "      quickchartButtonEl.classList.add('colab-df-spinner');\n",
              "      try {\n",
              "        const charts = await google.colab.kernel.invokeFunction(\n",
              "            'suggestCharts', [key], {});\n",
              "      } catch (error) {\n",
              "        console.error('Error during call to suggestCharts:', error);\n",
              "      }\n",
              "      quickchartButtonEl.classList.remove('colab-df-spinner');\n",
              "      quickchartButtonEl.classList.add('colab-df-quickchart-complete');\n",
              "    }\n",
              "    (() => {\n",
              "      let quickchartButtonEl =\n",
              "        document.querySelector('#df-4d8afccc-3e34-4f9a-a10e-40ccf3cbea2d button');\n",
              "      quickchartButtonEl.style.display =\n",
              "        google.colab.kernel.accessAllowed ? 'block' : 'none';\n",
              "    })();\n",
              "  </script>\n",
              "</div>\n",
              "    </div>\n",
              "  </div>\n"
            ]
          },
          "metadata": {},
          "execution_count": 6
        }
      ]
    },
    {
      "cell_type": "code",
      "metadata": {
        "colab": {
          "base_uri": "https://localhost:8080/",
          "height": 310
        },
        "id": "QWJA68ry1xpV",
        "outputId": "fe36c5f1-6081-4ada-98e8-f2e9151257c6"
      },
      "source": [
        "df.head() # la funcion head nos muestra los primeros 5 elementos del dataset"
      ],
      "execution_count": 7,
      "outputs": [
        {
          "output_type": "execute_result",
          "data": {
            "text/plain": [
              "         ID  Price  Levy Manufacturer    Model  Prod. year   Category  \\\n",
              "0  45654403  13328  1399        LEXUS   RX 450        2010       Jeep   \n",
              "1  44731507  16621  1018    CHEVROLET  Equinox        2011       Jeep   \n",
              "2  45774419   8467     -        HONDA      FIT        2006  Hatchback   \n",
              "3  45769185   3607   862         FORD   Escape        2011       Jeep   \n",
              "4  45809263  11726   446        HONDA      FIT        2014  Hatchback   \n",
              "\n",
              "  Leather interior Fuel type Engine volume    Mileage  Cylinders  \\\n",
              "0              Yes    Hybrid           3.5  186005 km        6.0   \n",
              "1               No    Petrol             3  192000 km        6.0   \n",
              "2               No    Petrol           1.3  200000 km        4.0   \n",
              "3              Yes    Hybrid           2.5  168966 km        4.0   \n",
              "4              Yes    Petrol           1.3   91901 km        4.0   \n",
              "\n",
              "  Gear box type Drive wheels   Doors             Wheel   Color  Airbags  \n",
              "0     Automatic          4x4  04-May        Left wheel  Silver       12  \n",
              "1     Tiptronic          4x4  04-May        Left wheel   Black        8  \n",
              "2      Variator        Front  04-May  Right-hand drive   Black        2  \n",
              "3     Automatic          4x4  04-May        Left wheel   White        0  \n",
              "4     Automatic        Front  04-May        Left wheel  Silver        4  "
            ],
            "text/html": [
              "\n",
              "  <div id=\"df-5192ea90-5894-42b8-9721-5e2766675451\" class=\"colab-df-container\">\n",
              "    <div>\n",
              "<style scoped>\n",
              "    .dataframe tbody tr th:only-of-type {\n",
              "        vertical-align: middle;\n",
              "    }\n",
              "\n",
              "    .dataframe tbody tr th {\n",
              "        vertical-align: top;\n",
              "    }\n",
              "\n",
              "    .dataframe thead th {\n",
              "        text-align: right;\n",
              "    }\n",
              "</style>\n",
              "<table border=\"1\" class=\"dataframe\">\n",
              "  <thead>\n",
              "    <tr style=\"text-align: right;\">\n",
              "      <th></th>\n",
              "      <th>ID</th>\n",
              "      <th>Price</th>\n",
              "      <th>Levy</th>\n",
              "      <th>Manufacturer</th>\n",
              "      <th>Model</th>\n",
              "      <th>Prod. year</th>\n",
              "      <th>Category</th>\n",
              "      <th>Leather interior</th>\n",
              "      <th>Fuel type</th>\n",
              "      <th>Engine volume</th>\n",
              "      <th>Mileage</th>\n",
              "      <th>Cylinders</th>\n",
              "      <th>Gear box type</th>\n",
              "      <th>Drive wheels</th>\n",
              "      <th>Doors</th>\n",
              "      <th>Wheel</th>\n",
              "      <th>Color</th>\n",
              "      <th>Airbags</th>\n",
              "    </tr>\n",
              "  </thead>\n",
              "  <tbody>\n",
              "    <tr>\n",
              "      <th>0</th>\n",
              "      <td>45654403</td>\n",
              "      <td>13328</td>\n",
              "      <td>1399</td>\n",
              "      <td>LEXUS</td>\n",
              "      <td>RX 450</td>\n",
              "      <td>2010</td>\n",
              "      <td>Jeep</td>\n",
              "      <td>Yes</td>\n",
              "      <td>Hybrid</td>\n",
              "      <td>3.5</td>\n",
              "      <td>186005 km</td>\n",
              "      <td>6.0</td>\n",
              "      <td>Automatic</td>\n",
              "      <td>4x4</td>\n",
              "      <td>04-May</td>\n",
              "      <td>Left wheel</td>\n",
              "      <td>Silver</td>\n",
              "      <td>12</td>\n",
              "    </tr>\n",
              "    <tr>\n",
              "      <th>1</th>\n",
              "      <td>44731507</td>\n",
              "      <td>16621</td>\n",
              "      <td>1018</td>\n",
              "      <td>CHEVROLET</td>\n",
              "      <td>Equinox</td>\n",
              "      <td>2011</td>\n",
              "      <td>Jeep</td>\n",
              "      <td>No</td>\n",
              "      <td>Petrol</td>\n",
              "      <td>3</td>\n",
              "      <td>192000 km</td>\n",
              "      <td>6.0</td>\n",
              "      <td>Tiptronic</td>\n",
              "      <td>4x4</td>\n",
              "      <td>04-May</td>\n",
              "      <td>Left wheel</td>\n",
              "      <td>Black</td>\n",
              "      <td>8</td>\n",
              "    </tr>\n",
              "    <tr>\n",
              "      <th>2</th>\n",
              "      <td>45774419</td>\n",
              "      <td>8467</td>\n",
              "      <td>-</td>\n",
              "      <td>HONDA</td>\n",
              "      <td>FIT</td>\n",
              "      <td>2006</td>\n",
              "      <td>Hatchback</td>\n",
              "      <td>No</td>\n",
              "      <td>Petrol</td>\n",
              "      <td>1.3</td>\n",
              "      <td>200000 km</td>\n",
              "      <td>4.0</td>\n",
              "      <td>Variator</td>\n",
              "      <td>Front</td>\n",
              "      <td>04-May</td>\n",
              "      <td>Right-hand drive</td>\n",
              "      <td>Black</td>\n",
              "      <td>2</td>\n",
              "    </tr>\n",
              "    <tr>\n",
              "      <th>3</th>\n",
              "      <td>45769185</td>\n",
              "      <td>3607</td>\n",
              "      <td>862</td>\n",
              "      <td>FORD</td>\n",
              "      <td>Escape</td>\n",
              "      <td>2011</td>\n",
              "      <td>Jeep</td>\n",
              "      <td>Yes</td>\n",
              "      <td>Hybrid</td>\n",
              "      <td>2.5</td>\n",
              "      <td>168966 km</td>\n",
              "      <td>4.0</td>\n",
              "      <td>Automatic</td>\n",
              "      <td>4x4</td>\n",
              "      <td>04-May</td>\n",
              "      <td>Left wheel</td>\n",
              "      <td>White</td>\n",
              "      <td>0</td>\n",
              "    </tr>\n",
              "    <tr>\n",
              "      <th>4</th>\n",
              "      <td>45809263</td>\n",
              "      <td>11726</td>\n",
              "      <td>446</td>\n",
              "      <td>HONDA</td>\n",
              "      <td>FIT</td>\n",
              "      <td>2014</td>\n",
              "      <td>Hatchback</td>\n",
              "      <td>Yes</td>\n",
              "      <td>Petrol</td>\n",
              "      <td>1.3</td>\n",
              "      <td>91901 km</td>\n",
              "      <td>4.0</td>\n",
              "      <td>Automatic</td>\n",
              "      <td>Front</td>\n",
              "      <td>04-May</td>\n",
              "      <td>Left wheel</td>\n",
              "      <td>Silver</td>\n",
              "      <td>4</td>\n",
              "    </tr>\n",
              "  </tbody>\n",
              "</table>\n",
              "</div>\n",
              "    <div class=\"colab-df-buttons\">\n",
              "\n",
              "  <div class=\"colab-df-container\">\n",
              "    <button class=\"colab-df-convert\" onclick=\"convertToInteractive('df-5192ea90-5894-42b8-9721-5e2766675451')\"\n",
              "            title=\"Convert this dataframe to an interactive table.\"\n",
              "            style=\"display:none;\">\n",
              "\n",
              "  <svg xmlns=\"http://www.w3.org/2000/svg\" height=\"24px\" viewBox=\"0 -960 960 960\">\n",
              "    <path d=\"M120-120v-720h720v720H120Zm60-500h600v-160H180v160Zm220 220h160v-160H400v160Zm0 220h160v-160H400v160ZM180-400h160v-160H180v160Zm440 0h160v-160H620v160ZM180-180h160v-160H180v160Zm440 0h160v-160H620v160Z\"/>\n",
              "  </svg>\n",
              "    </button>\n",
              "\n",
              "  <style>\n",
              "    .colab-df-container {\n",
              "      display:flex;\n",
              "      gap: 12px;\n",
              "    }\n",
              "\n",
              "    .colab-df-convert {\n",
              "      background-color: #E8F0FE;\n",
              "      border: none;\n",
              "      border-radius: 50%;\n",
              "      cursor: pointer;\n",
              "      display: none;\n",
              "      fill: #1967D2;\n",
              "      height: 32px;\n",
              "      padding: 0 0 0 0;\n",
              "      width: 32px;\n",
              "    }\n",
              "\n",
              "    .colab-df-convert:hover {\n",
              "      background-color: #E2EBFA;\n",
              "      box-shadow: 0px 1px 2px rgba(60, 64, 67, 0.3), 0px 1px 3px 1px rgba(60, 64, 67, 0.15);\n",
              "      fill: #174EA6;\n",
              "    }\n",
              "\n",
              "    .colab-df-buttons div {\n",
              "      margin-bottom: 4px;\n",
              "    }\n",
              "\n",
              "    [theme=dark] .colab-df-convert {\n",
              "      background-color: #3B4455;\n",
              "      fill: #D2E3FC;\n",
              "    }\n",
              "\n",
              "    [theme=dark] .colab-df-convert:hover {\n",
              "      background-color: #434B5C;\n",
              "      box-shadow: 0px 1px 3px 1px rgba(0, 0, 0, 0.15);\n",
              "      filter: drop-shadow(0px 1px 2px rgba(0, 0, 0, 0.3));\n",
              "      fill: #FFFFFF;\n",
              "    }\n",
              "  </style>\n",
              "\n",
              "    <script>\n",
              "      const buttonEl =\n",
              "        document.querySelector('#df-5192ea90-5894-42b8-9721-5e2766675451 button.colab-df-convert');\n",
              "      buttonEl.style.display =\n",
              "        google.colab.kernel.accessAllowed ? 'block' : 'none';\n",
              "\n",
              "      async function convertToInteractive(key) {\n",
              "        const element = document.querySelector('#df-5192ea90-5894-42b8-9721-5e2766675451');\n",
              "        const dataTable =\n",
              "          await google.colab.kernel.invokeFunction('convertToInteractive',\n",
              "                                                    [key], {});\n",
              "        if (!dataTable) return;\n",
              "\n",
              "        const docLinkHtml = 'Like what you see? Visit the ' +\n",
              "          '<a target=\"_blank\" href=https://colab.research.google.com/notebooks/data_table.ipynb>data table notebook</a>'\n",
              "          + ' to learn more about interactive tables.';\n",
              "        element.innerHTML = '';\n",
              "        dataTable['output_type'] = 'display_data';\n",
              "        await google.colab.output.renderOutput(dataTable, element);\n",
              "        const docLink = document.createElement('div');\n",
              "        docLink.innerHTML = docLinkHtml;\n",
              "        element.appendChild(docLink);\n",
              "      }\n",
              "    </script>\n",
              "  </div>\n",
              "\n",
              "\n",
              "<div id=\"df-f1ae28a0-bd57-40ee-b718-4829edb46fa9\">\n",
              "  <button class=\"colab-df-quickchart\" onclick=\"quickchart('df-f1ae28a0-bd57-40ee-b718-4829edb46fa9')\"\n",
              "            title=\"Suggest charts\"\n",
              "            style=\"display:none;\">\n",
              "\n",
              "<svg xmlns=\"http://www.w3.org/2000/svg\" height=\"24px\"viewBox=\"0 0 24 24\"\n",
              "     width=\"24px\">\n",
              "    <g>\n",
              "        <path d=\"M19 3H5c-1.1 0-2 .9-2 2v14c0 1.1.9 2 2 2h14c1.1 0 2-.9 2-2V5c0-1.1-.9-2-2-2zM9 17H7v-7h2v7zm4 0h-2V7h2v10zm4 0h-2v-4h2v4z\"/>\n",
              "    </g>\n",
              "</svg>\n",
              "  </button>\n",
              "\n",
              "<style>\n",
              "  .colab-df-quickchart {\n",
              "      --bg-color: #E8F0FE;\n",
              "      --fill-color: #1967D2;\n",
              "      --hover-bg-color: #E2EBFA;\n",
              "      --hover-fill-color: #174EA6;\n",
              "      --disabled-fill-color: #AAA;\n",
              "      --disabled-bg-color: #DDD;\n",
              "  }\n",
              "\n",
              "  [theme=dark] .colab-df-quickchart {\n",
              "      --bg-color: #3B4455;\n",
              "      --fill-color: #D2E3FC;\n",
              "      --hover-bg-color: #434B5C;\n",
              "      --hover-fill-color: #FFFFFF;\n",
              "      --disabled-bg-color: #3B4455;\n",
              "      --disabled-fill-color: #666;\n",
              "  }\n",
              "\n",
              "  .colab-df-quickchart {\n",
              "    background-color: var(--bg-color);\n",
              "    border: none;\n",
              "    border-radius: 50%;\n",
              "    cursor: pointer;\n",
              "    display: none;\n",
              "    fill: var(--fill-color);\n",
              "    height: 32px;\n",
              "    padding: 0;\n",
              "    width: 32px;\n",
              "  }\n",
              "\n",
              "  .colab-df-quickchart:hover {\n",
              "    background-color: var(--hover-bg-color);\n",
              "    box-shadow: 0 1px 2px rgba(60, 64, 67, 0.3), 0 1px 3px 1px rgba(60, 64, 67, 0.15);\n",
              "    fill: var(--button-hover-fill-color);\n",
              "  }\n",
              "\n",
              "  .colab-df-quickchart-complete:disabled,\n",
              "  .colab-df-quickchart-complete:disabled:hover {\n",
              "    background-color: var(--disabled-bg-color);\n",
              "    fill: var(--disabled-fill-color);\n",
              "    box-shadow: none;\n",
              "  }\n",
              "\n",
              "  .colab-df-spinner {\n",
              "    border: 2px solid var(--fill-color);\n",
              "    border-color: transparent;\n",
              "    border-bottom-color: var(--fill-color);\n",
              "    animation:\n",
              "      spin 1s steps(1) infinite;\n",
              "  }\n",
              "\n",
              "  @keyframes spin {\n",
              "    0% {\n",
              "      border-color: transparent;\n",
              "      border-bottom-color: var(--fill-color);\n",
              "      border-left-color: var(--fill-color);\n",
              "    }\n",
              "    20% {\n",
              "      border-color: transparent;\n",
              "      border-left-color: var(--fill-color);\n",
              "      border-top-color: var(--fill-color);\n",
              "    }\n",
              "    30% {\n",
              "      border-color: transparent;\n",
              "      border-left-color: var(--fill-color);\n",
              "      border-top-color: var(--fill-color);\n",
              "      border-right-color: var(--fill-color);\n",
              "    }\n",
              "    40% {\n",
              "      border-color: transparent;\n",
              "      border-right-color: var(--fill-color);\n",
              "      border-top-color: var(--fill-color);\n",
              "    }\n",
              "    60% {\n",
              "      border-color: transparent;\n",
              "      border-right-color: var(--fill-color);\n",
              "    }\n",
              "    80% {\n",
              "      border-color: transparent;\n",
              "      border-right-color: var(--fill-color);\n",
              "      border-bottom-color: var(--fill-color);\n",
              "    }\n",
              "    90% {\n",
              "      border-color: transparent;\n",
              "      border-bottom-color: var(--fill-color);\n",
              "    }\n",
              "  }\n",
              "</style>\n",
              "\n",
              "  <script>\n",
              "    async function quickchart(key) {\n",
              "      const quickchartButtonEl =\n",
              "        document.querySelector('#' + key + ' button');\n",
              "      quickchartButtonEl.disabled = true;  // To prevent multiple clicks.\n",
              "      quickchartButtonEl.classList.add('colab-df-spinner');\n",
              "      try {\n",
              "        const charts = await google.colab.kernel.invokeFunction(\n",
              "            'suggestCharts', [key], {});\n",
              "      } catch (error) {\n",
              "        console.error('Error during call to suggestCharts:', error);\n",
              "      }\n",
              "      quickchartButtonEl.classList.remove('colab-df-spinner');\n",
              "      quickchartButtonEl.classList.add('colab-df-quickchart-complete');\n",
              "    }\n",
              "    (() => {\n",
              "      let quickchartButtonEl =\n",
              "        document.querySelector('#df-f1ae28a0-bd57-40ee-b718-4829edb46fa9 button');\n",
              "      quickchartButtonEl.style.display =\n",
              "        google.colab.kernel.accessAllowed ? 'block' : 'none';\n",
              "    })();\n",
              "  </script>\n",
              "</div>\n",
              "    </div>\n",
              "  </div>\n"
            ]
          },
          "metadata": {},
          "execution_count": 7
        }
      ]
    },
    {
      "cell_type": "code",
      "metadata": {
        "colab": {
          "base_uri": "https://localhost:8080/"
        },
        "id": "9MFZiELsHh2q",
        "outputId": "312b5fa3-f7b9-46c9-b3ac-f1c29aa31fbf"
      },
      "source": [
        "df.shape # la funcion shape nos da la forma del dataset en este formato (Cantidad de filas, cantidad de columnas)\n",
        "\n",
        "#Las cantidad de filas representa la cantidad de casas del dataset\n",
        "#La cantidad de columnas representa la cantidad de atributos o datos que tiene cada casa del dataset"
      ],
      "execution_count": 8,
      "outputs": [
        {
          "output_type": "execute_result",
          "data": {
            "text/plain": [
              "(19237, 18)"
            ]
          },
          "metadata": {},
          "execution_count": 8
        }
      ]
    },
    {
      "cell_type": "code",
      "metadata": {
        "colab": {
          "base_uri": "https://localhost:8080/"
        },
        "id": "8sT6d24I18Qm",
        "outputId": "c2dfecee-5be2-4c2f-b555-705059f391c3"
      },
      "source": [
        "df.dtypes # la funcion dtypes nos muestra los tipos de variables del dataset, podemos ver que la mayoria son numeros enteros"
      ],
      "execution_count": 9,
      "outputs": [
        {
          "output_type": "execute_result",
          "data": {
            "text/plain": [
              "ID                    int64\n",
              "Price                 int64\n",
              "Levy                 object\n",
              "Manufacturer         object\n",
              "Model                object\n",
              "Prod. year            int64\n",
              "Category             object\n",
              "Leather interior     object\n",
              "Fuel type            object\n",
              "Engine volume        object\n",
              "Mileage              object\n",
              "Cylinders           float64\n",
              "Gear box type        object\n",
              "Drive wheels         object\n",
              "Doors                object\n",
              "Wheel                object\n",
              "Color                object\n",
              "Airbags               int64\n",
              "dtype: object"
            ]
          },
          "metadata": {},
          "execution_count": 9
        }
      ]
    },
    {
      "cell_type": "code",
      "metadata": {
        "id": "2tKmwknYJUeG",
        "colab": {
          "base_uri": "https://localhost:8080/"
        },
        "outputId": "50b11d6c-0808-4da0-fd42-1c241e9d9b9a"
      },
      "source": [
        "correlations = df.corr()['Price']\n",
        "\n",
        "# la funcion corr nos permite obtener las correlaciones entre las distintas variables\n",
        "# En este caso selecionamos del dataframe la variable \"price\" (precio), por lo cual\n",
        "# obtendremos las relaciones entre esta variable y las demas\n",
        "# Entre mas cercano a 1 sea el valor mayor es la correlacion y mejor es la variable para predecir \"price\"\n",
        "\n",
        "print(correlations) # imprimimos los valores\n",
        "\n",
        "#sqft_living (pies cuadrados de la vivienda) deberia dar el valor de mayor correlacion con el precio de la casa\n"
      ],
      "execution_count": 11,
      "outputs": [
        {
          "output_type": "stream",
          "name": "stdout",
          "text": [
            "ID           -0.000844\n",
            "Price         1.000000\n",
            "Prod. year    0.012982\n",
            "Cylinders     0.007518\n",
            "Airbags      -0.012824\n",
            "Name: Price, dtype: float64\n"
          ]
        },
        {
          "output_type": "stream",
          "name": "stderr",
          "text": [
            "<ipython-input-11-f889b993225d>:1: FutureWarning: The default value of numeric_only in DataFrame.corr is deprecated. In a future version, it will default to False. Select only valid columns or specify the value of numeric_only to silence this warning.\n",
            "  correlations = df.corr()['Price']\n"
          ]
        }
      ]
    },
    {
      "cell_type": "markdown",
      "metadata": {
        "id": "S04SOLnnKHkK"
      },
      "source": [
        "Al igual que con el R2, entre más cercano a 1 sea el valor de correlación mejor."
      ]
    },
    {
      "cell_type": "markdown",
      "metadata": {
        "id": "EVTWDMOwHZvu"
      },
      "source": [
        "Al usar la función shape la consola debería haber mostrado que el dataset contiene 21613, lo cual puede ser una cantidad incomoda para visualizar en gráficas como haremos más adelante. Por este motivo en el siguiente bloque de codigo vamos a \"achicar el dataset\", dejando solo 15 casas para analizar. Más adelante usaremos todo el dataset y podremos comparar resultados."
      ]
    },
    {
      "cell_type": "code",
      "metadata": {
        "id": "WsG72x0UdT42"
      },
      "source": [
        "df_min = df.sample(15, random_state=10) #creamos un nuevo dataset al cual copiamos 15 valores del dataset original\n",
        "# random_state=10 es un valor que deberias mantener igual si quieres obtener las mismas graficas, es basicamente la forma de asegurarse de que los 15 datos que seleccionamos sean los mismos\n",
        "# si pongo otro valor como random state el conjunto de 15 datos seria diferente\n",
        "\n",
        "from sklearn.linear_model import LinearRegression # Sklearn es la libreria de machine leaarning que estaremos usando, por ahora solo usaremos su funcion de Regresion lineal\n",
        "X = df_min['Prod. year'].values.reshape(-1, 1)\n",
        "y = df_min['Price'].values.reshape(-1, 1)\n"
      ],
      "execution_count": 15,
      "outputs": []
    },
    {
      "cell_type": "code",
      "metadata": {
        "id": "kgWHG1H9Fyzw",
        "colab": {
          "base_uri": "https://localhost:8080/",
          "height": 489
        },
        "outputId": "87096040-acab-4f4c-94b0-9ef5cf3bfc94"
      },
      "source": [
        "import matplotlib.pyplot as plt # Esta libreria tiene herramientas para graficar\n",
        "\n",
        "\n",
        "# Ahora que tenemos un conjunto de datos mas pequeño deberia ser facil graficarlo\n",
        "\n",
        "plt.scatter(X,y) # Genera una grafica de puntos\n",
        "\n",
        "plt.title('Demostración de Regresión Lineal') # Agrego un titulo\n",
        "plt.ylabel('Precio de los autos') # defino un nombre del eje y\n",
        "plt.xlabel('Año de produccion') # defino un nombre del eje x"
      ],
      "execution_count": 17,
      "outputs": [
        {
          "output_type": "execute_result",
          "data": {
            "text/plain": [
              "Text(0.5, 0, 'Año de produccion')"
            ]
          },
          "metadata": {},
          "execution_count": 17
        },
        {
          "output_type": "display_data",
          "data": {
            "text/plain": [
              "<Figure size 640x480 with 1 Axes>"
            ],
            "image/png": "[encoded data removed]"
          },
          "metadata": {}
        }
      ]
    },
    {
      "cell_type": "code",
      "metadata": {
        "id": "BQw_tNg3e23H"
      },
      "source": [
        "reg = LinearRegression().fit(X,y)\n",
        "# La funcion fit relaciona los valores de X e y, mientras que Linear Regression calcula la recta\n",
        "# la recta (y = mx + b) obtenida se guarda en la variable reg"
      ],
      "execution_count": 18,
      "outputs": []
    },
    {
      "cell_type": "markdown",
      "metadata": {
        "id": "pBohDTaDEY8k"
      },
      "source": [
        "Matematicamente, los valores obtenidos a través de la recta se representan matemáticamente así: *ŷ*, para diferenciarlo de la *y* común, la cual en este caso contiene los valores de precios. Como a *ŷ* se le suele decir \"y con sombrero\" (en inglés \"hat\" es \"sombrero\") llamaremos a la variable que contiene los valores predecidos y_hat, lo cual seria como llamarla y_con_sombrero"
      ]
    },
    {
      "cell_type": "code",
      "metadata": {
        "id": "uTxjuUYlFmEg",
        "colab": {
          "base_uri": "https://localhost:8080/"
        },
        "outputId": "50e0cf87-ac29-47d1-93cf-eb1e70e71b0d"
      },
      "source": [
        "y_hat = reg.predict(X) # Sustituimos en la recta (y = mx + b) nuestros valores iniciales de X\n",
        "print(y_hat) # guardamos los resultados en y_hat"
      ],
      "execution_count": 19,
      "outputs": [
        {
          "output_type": "stream",
          "name": "stdout",
          "text": [
            "[[30534.97660819]\n",
            " [24761.8245614 ]\n",
            " [24761.8245614 ]\n",
            " [ 9366.75243665]\n",
            " [ 3593.60038986]\n",
            " [ 5517.98440546]\n",
            " [34383.74463938]\n",
            " [26686.208577  ]\n",
            " [15139.90448343]\n",
            " [ 9366.75243665]\n",
            " [17064.28849903]\n",
            " [26686.208577  ]\n",
            " [28610.59259259]\n",
            " [34383.74463938]\n",
            " [28610.59259259]]\n"
          ]
        }
      ]
    },
    {
      "cell_type": "code",
      "metadata": {
        "id": "iB1oUM8ifpzA",
        "colab": {
          "base_uri": "https://localhost:8080/",
          "height": 489
        },
        "outputId": "53986985-6200-4d75-b0d5-378fd88319f4"
      },
      "source": [
        "import matplotlib.pyplot as plt # Esta libreria tiene herramientas para graficar\n",
        "\n",
        "# Recreamos la misma grafica pero ahora se muestra la recta obtenida\n",
        "\n",
        "plt.scatter(X,y)\n",
        "plt.plot(X, y_hat, color='green')\n",
        "\n",
        "plt.title('Demostración de Regresión Lineal') # Agrego un titulo\n",
        "plt.ylabel('Precio de los autos') # defino un nombre del eje y\n",
        "plt.xlabel('Año de produccion') # defino un nombre del eje x"
      ],
      "execution_count": 20,
      "outputs": [
        {
          "output_type": "execute_result",
          "data": {
            "text/plain": [
              "Text(0.5, 0, 'Superficie en pies cuadrados')"
            ]
          },
          "metadata": {},
          "execution_count": 20
        },
        {
          "output_type": "display_data",
          "data": {
            "text/plain": [
              "<Figure size 640x480 with 1 Axes>"
            ],
            "image/png": "[encoded data removed]"
          },
          "metadata": {}
        }
      ]
    },
    {
      "cell_type": "code",
      "metadata": {
        "id": "1ijlu5bu3uYf",
        "colab": {
          "base_uri": "https://localhost:8080/",
          "height": 472
        },
        "outputId": "08eb8090-df8d-46b7-ce12-518623b12573"
      },
      "source": [
        "import matplotlib.pyplot as plt # Esta libreria tiene herramientas para graficar\n",
        "\n",
        "# Recreamos la misma grafica pero ahora se muestra la recta obtenida\n",
        "\n",
        "plt.scatter(X,y) # Grafica de dispersion, muestra los puntos iniciales\n",
        "\n",
        "plt.scatter(X,y_hat, color='red')\n",
        "\n",
        "# grafica de dispersion, muestra los puntos que se obtienen al sustituir nuestros valores iniciales de X en la ecuacion y = mx + b obtenida mediante regresion\n",
        "\n",
        "plt.plot(X, y_hat, color='green') # Dibuja la linea de regresion\n",
        "\n",
        "\n",
        "plt.title('Demostración de Regresión Lineal') # Agrego un titulo\n",
        "plt.ylabel('Precio de los autos') # defino un nombre del eje y\n",
        "plt.xlabel('Año de produccion') # defino un nombre del eje x\n",
        "\n",
        "# No preocuparse demasiado por esta parte, al igual que las otras graficas no es necesaria\n",
        "# pero ayuda a visualizar que esta pasando\n",
        "\n",
        "# Esto es un loop, el cual recorre todos los valores de los conjuntos X, y, y_hat\n",
        "# a medida que los recorre va dibujando lineas punteadas para ilustrar el error de la regresion\n",
        "for i in range(0, len(X)):\n",
        "  point1 = [X[i], y[i]]\n",
        "  point2 = [X[i], y_hat[i]]\n",
        "\n",
        "  x_values = [point1[0], point2[0]]\n",
        "  y_values = [point1[1], point2[1]]\n",
        "\n",
        "  plt.plot(x_values, y_values, color='red', linestyle='dashed')\n",
        "\n"
      ],
      "execution_count": 21,
      "outputs": [
        {
          "output_type": "display_data",
          "data": {
            "text/plain": [
              "<Figure size 640x480 with 1 Axes>"
            ],
            "image/png": "[encoded data removed]"
          },
          "metadata": {}
        }
      ]
    },
    {
      "cell_type": "markdown",
      "metadata": {
        "id": "fWkeUhd_HaT8"
      },
      "source": [
        "En este momento en la variable y tenemos los valores de precios originales, mientras que en y_hat tenemos los valores de precios obtenidos mediante la regresión lineal. Si comparamos la diferencia entre estos valores podemos obtener el R2 de la recta.\n"
      ]
    },
    {
      "cell_type": "code",
      "metadata": {
        "id": "0gVxAjjkiC1i",
        "colab": {
          "base_uri": "https://localhost:8080/"
        },
        "outputId": "f39ec05e-6d2d-4b44-c4e6-a069207b6fed"
      },
      "source": [
        "from sklearn.metrics import r2_score\n",
        "r2_score(y, y_hat)\n",
        "# |\n",
        "# |\n",
        "# | Deberia aparecer el r2 una vez ejecutes este codigo\n",
        "# |\n",
        "# ↓"
      ],
      "execution_count": 22,
      "outputs": [
        {
          "output_type": "execute_result",
          "data": {
            "text/plain": [
              "0.13823732520312504"
            ]
          },
          "metadata": {},
          "execution_count": 22
        }
      ]
    },
    {
      "cell_type": "code",
      "metadata": {
        "id": "rAMOkfX9iTil",
        "colab": {
          "base_uri": "https://localhost:8080/",
          "height": 489
        },
        "outputId": "ff4205cc-b7a9-4070-8a1b-2038a155ccc6"
      },
      "source": [
        "# Defino nuevos valores de X e y pero con un 1 al final para no repetir nombres de variables\n",
        "\n",
        "X1 = df['Prod. year'].values.reshape(-1, 1)\n",
        "y1 = df['Price']\n",
        "\n",
        "# vuelvo a usar las herramientas de regresion\n",
        "\n",
        "reg = LinearRegression().fit(X1,y1)\n",
        "y_hat1 = reg.predict(X1)\n",
        "\n",
        "# Y grafico nuevamente\n",
        "plt.scatter(X1,y1)\n",
        "plt.plot(X1, y_hat1, color='green')\n",
        "plt.title('Demostración de Regresión Lineal') # Agrego un titulo\n",
        "plt.ylabel('Precio de los autos') # defino un nombre del eje y\n",
        "plt.xlabel('Año de produccion') # defino un nombre del eje x"
      ],
      "execution_count": 26,
      "outputs": [
        {
          "output_type": "execute_result",
          "data": {
            "text/plain": [
              "Text(0.5, 0, 'Año de produccion')"
            ]
          },
          "metadata": {},
          "execution_count": 26
        },
        {
          "output_type": "display_data",
          "data": {
            "text/plain": [
              "<Figure size 640x480 with 1 Axes>"
            ],
            "image/png": "[encoded data removed]"
          },
          "metadata": {}
        }
      ]
    },
    {
      "cell_type": "markdown",
      "metadata": {
        "id": "z-J9CuF5IjQT"
      },
      "source": [
        "Ahora que tengo todos los datos la recta ya no parece tan representativa, ¿No?\n",
        "\n",
        "Veamos su valor de R2"
      ]
    },
    {
      "cell_type": "code",
      "metadata": {
        "id": "M0IRiXzkDItk",
        "colab": {
          "base_uri": "https://localhost:8080/"
        },
        "outputId": "3a2167fd-dba4-48cd-ae2b-4c4fc827c354"
      },
      "source": [
        "r2_score(y1, y_hat1)\n",
        "# |\n",
        "# |\n",
        "# | Deberia aparecer el r2 una vez ejecutes este codigo\n",
        "# |\n",
        "# ↓"
      ],
      "execution_count": 27,
      "outputs": [
        {
          "output_type": "execute_result",
          "data": {
            "text/plain": [
              "0.00016854369360608246"
            ]
          },
          "metadata": {},
          "execution_count": 27
        }
      ]
    },
    {
      "cell_type": "code",
      "source": [],
      "metadata": {
        "id": "OIUVvTeUvgIF"
      },
      "execution_count": null,
      "outputs": []
    }
  ]
}